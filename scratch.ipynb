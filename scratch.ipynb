{
 "cells": [
  {
   "cell_type": "code",
   "execution_count": 193,
   "metadata": {
    "ExecuteTime": {
     "end_time": "2024-03-06T16:43:33.769882Z",
     "start_time": "2024-03-06T16:43:32.827264Z"
    }
   },
   "outputs": [
    {
     "data": {
      "text/plain": "           CASE#     DATE  OF OCCURRENCE                                BLOCK  \\\n0       JG406115  08/31/2023 07:00:00 PM                 042XX W MARQUETTE RD   \n1       JG425966  09/15/2023 11:20:00 PM                      010XX W 84TH ST   \n2       JG412467  08/31/2023 09:13:00 PM                   093XX S WABASH AVE   \n3       JG426285  09/15/2023 06:00:00 PM  057XX S DR MARTIN LUTHER KING JR DR   \n4       JG425774  09/15/2023 05:29:00 PM                      017XX E 95TH ST   \n...          ...                     ...                                  ...   \n258273  JG203846  03/29/2023 05:59:00 PM                      016XX W 47TH ST   \n258274  JG300737  06/14/2023 12:07:00 PM                 087XX S MUSKEGON AVE   \n258275  JG364916  07/31/2023 12:00:00 AM                   064XX S RHODES AVE   \n258276  JG305358  06/18/2023 01:05:00 AM                   012XX N STATE PKWY   \n258277  JG317689  06/27/2023 05:02:00 AM                 030XX N LAKEWOOD AVE   \n\n        IUCR  PRIMARY_DESCRIPTION  \\\n0       0498              BATTERY   \n1       0486              BATTERY   \n2       0910  MOTOR VEHICLE THEFT   \n3       1320      CRIMINAL DAMAGE   \n4       0860                THEFT   \n...      ...                  ...   \n258273  0860                THEFT   \n258274  141C    WEAPONS VIOLATION   \n258275  0497              BATTERY   \n258276  0496              BATTERY   \n258277  0810                THEFT   \n\n                                    SECONDARY_DESCRIPTION  \\\n0       AGG. DOMESTIC BATTERY - HANDS, FISTS, FEET, SE...   \n1                                 DOMESTIC BATTERY SIMPLE   \n2                                              AUTOMOBILE   \n3                                              TO VEHICLE   \n4                                            RETAIL THEFT   \n...                                                   ...   \n258273                                       RETAIL THEFT   \n258274              UNLAWFUL USE - OTHER DANGEROUS WEAPON   \n258275  AGGRAVATED DOMESTIC BATTERY - OTHER DANGEROUS ...   \n258276  AGGRAVATED DOMESTIC BATTERY - KNIFE / CUTTING ...   \n258277                                          OVER $500   \n\n                          LOCATION_DESCRIPTION ARREST DOMESTIC  BEAT  WARD  \\\n0                                    APARTMENT      Y        Y   833  23.0   \n1                                    APARTMENT      N        Y   613  17.0   \n2                                       STREET      N        N   634   6.0   \n3       PARKING LOT / GARAGE (NON RESIDENTIAL)      N        N   232  20.0   \n4                           SMALL RETAIL STORE      N        N   431   7.0   \n...                                        ...    ...      ...   ...   ...   \n258273                      SMALL RETAIL STORE      Y        N   924  15.0   \n258274                                   ALLEY      N        N   423   7.0   \n258275                               RESIDENCE      N        Y   312  20.0   \n258276                               APARTMENT      Y        Y  1824   2.0   \n258277                                  STREET      N        N  1933  32.0   \n\n       FBI CD  X COORDINATE  Y COORDINATE   LATITUDE  LONGITUDE  \\\n0         04B     1149062.0     1859830.0  41.771296 -87.729149   \n1         08B     1170922.0     1849120.0  41.741457 -87.649330   \n2          07     1178354.0     1843057.0  41.724654 -87.622283   \n3          14     1179905.0     1867002.0  41.790327 -87.615871   \n4          06     1189459.0     1842326.0  41.722389 -87.581630   \n...       ...           ...           ...        ...        ...   \n258273     06     1166298.0     1873549.0  41.808593 -87.665577   \n258274     15     1196529.0     1847498.0  41.736410 -87.555563   \n258275    04B     1181010.0     1862410.0  41.777700 -87.611960   \n258276    04B     1176068.0     1908513.0  41.904323 -87.628691   \n258277     06     1167116.0     1920150.0  41.936453 -87.661239   \n\n                             LOCATION  \n0       (41.771296232, -87.729149311)  \n1        (41.74145726, -87.649330096)  \n2       (41.724654303, -87.622283278)  \n3       (41.790326702, -87.615870527)  \n4       (41.722389451, -87.581629631)  \n...                               ...  \n258273   (41.80859321, -87.665577234)  \n258274  (41.736409533, -87.555562506)  \n258275  (41.777700447, -87.611960085)  \n258276  (41.904322962, -87.628690783)  \n258277  (41.936452633, -87.661238666)  \n\n[258278 rows x 17 columns]",
      "text/html": "<div>\n<style scoped>\n    .dataframe tbody tr th:only-of-type {\n        vertical-align: middle;\n    }\n\n    .dataframe tbody tr th {\n        vertical-align: top;\n    }\n\n    .dataframe thead th {\n        text-align: right;\n    }\n</style>\n<table border=\"1\" class=\"dataframe\">\n  <thead>\n    <tr style=\"text-align: right;\">\n      <th></th>\n      <th>CASE#</th>\n      <th>DATE  OF OCCURRENCE</th>\n      <th>BLOCK</th>\n      <th>IUCR</th>\n      <th>PRIMARY_DESCRIPTION</th>\n      <th>SECONDARY_DESCRIPTION</th>\n      <th>LOCATION_DESCRIPTION</th>\n      <th>ARREST</th>\n      <th>DOMESTIC</th>\n      <th>BEAT</th>\n      <th>WARD</th>\n      <th>FBI CD</th>\n      <th>X COORDINATE</th>\n      <th>Y COORDINATE</th>\n      <th>LATITUDE</th>\n      <th>LONGITUDE</th>\n      <th>LOCATION</th>\n    </tr>\n  </thead>\n  <tbody>\n    <tr>\n      <th>0</th>\n      <td>JG406115</td>\n      <td>08/31/2023 07:00:00 PM</td>\n      <td>042XX W MARQUETTE RD</td>\n      <td>0498</td>\n      <td>BATTERY</td>\n      <td>AGG. DOMESTIC BATTERY - HANDS, FISTS, FEET, SE...</td>\n      <td>APARTMENT</td>\n      <td>Y</td>\n      <td>Y</td>\n      <td>833</td>\n      <td>23.0</td>\n      <td>04B</td>\n      <td>1149062.0</td>\n      <td>1859830.0</td>\n      <td>41.771296</td>\n      <td>-87.729149</td>\n      <td>(41.771296232, -87.729149311)</td>\n    </tr>\n    <tr>\n      <th>1</th>\n      <td>JG425966</td>\n      <td>09/15/2023 11:20:00 PM</td>\n      <td>010XX W 84TH ST</td>\n      <td>0486</td>\n      <td>BATTERY</td>\n      <td>DOMESTIC BATTERY SIMPLE</td>\n      <td>APARTMENT</td>\n      <td>N</td>\n      <td>Y</td>\n      <td>613</td>\n      <td>17.0</td>\n      <td>08B</td>\n      <td>1170922.0</td>\n      <td>1849120.0</td>\n      <td>41.741457</td>\n      <td>-87.649330</td>\n      <td>(41.74145726, -87.649330096)</td>\n    </tr>\n    <tr>\n      <th>2</th>\n      <td>JG412467</td>\n      <td>08/31/2023 09:13:00 PM</td>\n      <td>093XX S WABASH AVE</td>\n      <td>0910</td>\n      <td>MOTOR VEHICLE THEFT</td>\n      <td>AUTOMOBILE</td>\n      <td>STREET</td>\n      <td>N</td>\n      <td>N</td>\n      <td>634</td>\n      <td>6.0</td>\n      <td>07</td>\n      <td>1178354.0</td>\n      <td>1843057.0</td>\n      <td>41.724654</td>\n      <td>-87.622283</td>\n      <td>(41.724654303, -87.622283278)</td>\n    </tr>\n    <tr>\n      <th>3</th>\n      <td>JG426285</td>\n      <td>09/15/2023 06:00:00 PM</td>\n      <td>057XX S DR MARTIN LUTHER KING JR DR</td>\n      <td>1320</td>\n      <td>CRIMINAL DAMAGE</td>\n      <td>TO VEHICLE</td>\n      <td>PARKING LOT / GARAGE (NON RESIDENTIAL)</td>\n      <td>N</td>\n      <td>N</td>\n      <td>232</td>\n      <td>20.0</td>\n      <td>14</td>\n      <td>1179905.0</td>\n      <td>1867002.0</td>\n      <td>41.790327</td>\n      <td>-87.615871</td>\n      <td>(41.790326702, -87.615870527)</td>\n    </tr>\n    <tr>\n      <th>4</th>\n      <td>JG425774</td>\n      <td>09/15/2023 05:29:00 PM</td>\n      <td>017XX E 95TH ST</td>\n      <td>0860</td>\n      <td>THEFT</td>\n      <td>RETAIL THEFT</td>\n      <td>SMALL RETAIL STORE</td>\n      <td>N</td>\n      <td>N</td>\n      <td>431</td>\n      <td>7.0</td>\n      <td>06</td>\n      <td>1189459.0</td>\n      <td>1842326.0</td>\n      <td>41.722389</td>\n      <td>-87.581630</td>\n      <td>(41.722389451, -87.581629631)</td>\n    </tr>\n    <tr>\n      <th>...</th>\n      <td>...</td>\n      <td>...</td>\n      <td>...</td>\n      <td>...</td>\n      <td>...</td>\n      <td>...</td>\n      <td>...</td>\n      <td>...</td>\n      <td>...</td>\n      <td>...</td>\n      <td>...</td>\n      <td>...</td>\n      <td>...</td>\n      <td>...</td>\n      <td>...</td>\n      <td>...</td>\n      <td>...</td>\n    </tr>\n    <tr>\n      <th>258273</th>\n      <td>JG203846</td>\n      <td>03/29/2023 05:59:00 PM</td>\n      <td>016XX W 47TH ST</td>\n      <td>0860</td>\n      <td>THEFT</td>\n      <td>RETAIL THEFT</td>\n      <td>SMALL RETAIL STORE</td>\n      <td>Y</td>\n      <td>N</td>\n      <td>924</td>\n      <td>15.0</td>\n      <td>06</td>\n      <td>1166298.0</td>\n      <td>1873549.0</td>\n      <td>41.808593</td>\n      <td>-87.665577</td>\n      <td>(41.80859321, -87.665577234)</td>\n    </tr>\n    <tr>\n      <th>258274</th>\n      <td>JG300737</td>\n      <td>06/14/2023 12:07:00 PM</td>\n      <td>087XX S MUSKEGON AVE</td>\n      <td>141C</td>\n      <td>WEAPONS VIOLATION</td>\n      <td>UNLAWFUL USE - OTHER DANGEROUS WEAPON</td>\n      <td>ALLEY</td>\n      <td>N</td>\n      <td>N</td>\n      <td>423</td>\n      <td>7.0</td>\n      <td>15</td>\n      <td>1196529.0</td>\n      <td>1847498.0</td>\n      <td>41.736410</td>\n      <td>-87.555563</td>\n      <td>(41.736409533, -87.555562506)</td>\n    </tr>\n    <tr>\n      <th>258275</th>\n      <td>JG364916</td>\n      <td>07/31/2023 12:00:00 AM</td>\n      <td>064XX S RHODES AVE</td>\n      <td>0497</td>\n      <td>BATTERY</td>\n      <td>AGGRAVATED DOMESTIC BATTERY - OTHER DANGEROUS ...</td>\n      <td>RESIDENCE</td>\n      <td>N</td>\n      <td>Y</td>\n      <td>312</td>\n      <td>20.0</td>\n      <td>04B</td>\n      <td>1181010.0</td>\n      <td>1862410.0</td>\n      <td>41.777700</td>\n      <td>-87.611960</td>\n      <td>(41.777700447, -87.611960085)</td>\n    </tr>\n    <tr>\n      <th>258276</th>\n      <td>JG305358</td>\n      <td>06/18/2023 01:05:00 AM</td>\n      <td>012XX N STATE PKWY</td>\n      <td>0496</td>\n      <td>BATTERY</td>\n      <td>AGGRAVATED DOMESTIC BATTERY - KNIFE / CUTTING ...</td>\n      <td>APARTMENT</td>\n      <td>Y</td>\n      <td>Y</td>\n      <td>1824</td>\n      <td>2.0</td>\n      <td>04B</td>\n      <td>1176068.0</td>\n      <td>1908513.0</td>\n      <td>41.904323</td>\n      <td>-87.628691</td>\n      <td>(41.904322962, -87.628690783)</td>\n    </tr>\n    <tr>\n      <th>258277</th>\n      <td>JG317689</td>\n      <td>06/27/2023 05:02:00 AM</td>\n      <td>030XX N LAKEWOOD AVE</td>\n      <td>0810</td>\n      <td>THEFT</td>\n      <td>OVER $500</td>\n      <td>STREET</td>\n      <td>N</td>\n      <td>N</td>\n      <td>1933</td>\n      <td>32.0</td>\n      <td>06</td>\n      <td>1167116.0</td>\n      <td>1920150.0</td>\n      <td>41.936453</td>\n      <td>-87.661239</td>\n      <td>(41.936452633, -87.661238666)</td>\n    </tr>\n  </tbody>\n</table>\n<p>258278 rows × 17 columns</p>\n</div>"
     },
     "execution_count": 193,
     "metadata": {},
     "output_type": "execute_result"
    }
   ],
   "source": [
    "import pandas as pd\n",
    "import math\n",
    "df = pd.read_csv('Crimes_-_Map.csv')\n",
    "# This is the function that we will use to calculate the r squared value for the data. \n",
    "# It uses index column 0 and x and 1 as y where we use x to predict y. \n",
    "# the function goes calculate_r_squared(dataframe, x_idx, y_idx) where x_idx and y_idx are the index of the columns \n",
    "# that we want to use to calculate the r squared value. \n",
    "def calculate_r_squared(dataframe, x_idx, y_idx):\n",
    "    column_names = dataframe.columns.to_list()\n",
    "    x_column = column_names[x_idx]\n",
    "    y_column = column_names[y_idx]\n",
    "    x_mean = dataframe[x_column].mean()\n",
    "    y_mean = dataframe[y_column].mean()\n",
    "\n",
    "    # This calculates the S_xx and S_yy. I\n",
    "    x_variance = pd.Series((dataframe[x_column] - x_mean) ** 2)\n",
    "    y_variance = pd.Series((dataframe[y_column] - y_mean) ** 2)\n",
    " \n",
    "\n",
    "    # Calculate the S_xy\n",
    "    covariance = pd.Series((dataframe[x_column] - x_mean) * (dataframe[y_column] - y_mean))\n",
    "    \n",
    "    # This calculates the sums for the S_xx, S_yy and S_xy columns\n",
    "    s_xx_sum = x_variance.sum()\n",
    "    s_yy_sum = y_variance.sum()\n",
    "    s_xy_sum = covariance.sum()\n",
    "\n",
    "    # This finds the r and r squared values\n",
    "    r = s_xy_sum / (math.sqrt(s_xx_sum) * math.sqrt(s_yy_sum))\n",
    "    r_squared = r ** 2\n",
    "    return r_squared\n",
    "df"
   ]
  },
  {
   "cell_type": "code",
   "outputs": [],
   "source": [
    "# Clean up some data to make the datasets work together.\n",
    "df = df.drop(df[df['BEAT'] == 1651].index)\n",
    "df = df.drop(df[df['BEAT'] == 1654].index)\n",
    "df = df.drop(df[df['BEAT'] == 1655].index)\n",
    "df = df.drop(df[df['BEAT'] == 1650].index)"
   ],
   "metadata": {
    "collapsed": false,
    "ExecuteTime": {
     "end_time": "2024-03-06T16:48:40.588294Z",
     "start_time": "2024-03-06T16:48:40.415459Z"
    }
   },
   "execution_count": 206
  },
  {
   "cell_type": "code",
   "outputs": [
    {
     "data": {
      "text/plain": "BEAT\n111     1752\n112     1506\n113      919\n114     1037\n121      669\n        ... \n2531     711\n2532     980\n2533    1438\n2534    1191\n2535     798\nName: count, Length: 271, dtype: int64"
     },
     "execution_count": 207,
     "metadata": {},
     "output_type": "execute_result"
    }
   ],
   "source": [
    "crimes_per_beat = pd.Series(df['BEAT'].value_counts().sort_index())\n",
    "crimes_per_beat"
   ],
   "metadata": {
    "collapsed": false,
    "ExecuteTime": {
     "end_time": "2024-03-06T16:48:43.523882Z",
     "start_time": "2024-03-06T16:48:43.515608Z"
    }
   },
   "execution_count": 207
  },
  {
   "cell_type": "code",
   "execution_count": 195,
   "metadata": {
    "ExecuteTime": {
     "end_time": "2024-03-06T16:43:33.986944Z",
     "start_time": "2024-03-06T16:43:33.944555Z"
    }
   },
   "outputs": [
    {
     "data": {
      "text/plain": "BEAT\n111     608\n112     281\n113     272\n114      99\n121      67\n       ... \n2531     85\n2532    111\n2533    249\n2534    154\n2535    121\nName: count, Length: 271, dtype: int64"
     },
     "execution_count": 195,
     "metadata": {},
     "output_type": "execute_result"
    }
   ],
   "source": [
    "df_arrests = df[df[\"ARREST\"] == \"Y\"]\n",
    "# Here we can see the top 10 beats with the most arrests made. The top beat is 1834 which is the beat that includes navy pier. I don't usually think of navy pier as a place with a lot of crime, but I guess I was wrong. \n",
    "# I used https://www.chicagocityscape.com/maps/index.php#/?places_type=chipolicebeat&search_term=1831 to find out where the beats are located\n",
    "arrests_per_beat = pd.Series(df_arrests['BEAT'].value_counts().sort_index())\n",
    "arrests_per_beat"
   ]
  },
  {
   "cell_type": "code",
   "outputs": [
    {
     "data": {
      "text/plain": "BEAT\n632     5\n623     4\n921     3\n333     3\n1032    3\n       ..\n1722    1\n714     1\n2013    1\n913     1\n323     1\nName: count, Length: 98, dtype: int64"
     },
     "execution_count": 196,
     "metadata": {},
     "output_type": "execute_result"
    }
   ],
   "source": [
    "# Let's find if we get similar values when we limit the crimes only to murders\n",
    "df_murders = df_arrests.loc[df_arrests[\" PRIMARY_DESCRIPTION\"] == \"HOMICIDE\"]\n",
    "df_murders_per_beat = df_murders['BEAT'].value_counts().sort_values(ascending=False)\n",
    "df_murders_per_beat"
   ],
   "metadata": {
    "collapsed": false,
    "ExecuteTime": {
     "end_time": "2024-03-06T16:43:34.001236Z",
     "start_time": "2024-03-06T16:43:33.989934Z"
    }
   },
   "execution_count": 196
  },
  {
   "cell_type": "code",
   "outputs": [
    {
     "data": {
      "text/plain": "BEAT\n111     298\n112     184\n113       7\n114       6\n121       3\n       ... \n2531      8\n2532      3\n2533     36\n2534      3\n2535      4\nName: count, Length: 242, dtype: int64"
     },
     "execution_count": 197,
     "metadata": {},
     "output_type": "execute_result"
    }
   ],
   "source": [
    "# Let's find if we get similar values when we limit the crimes only to thefts\n",
    "df_thefts = df_arrests.loc[df_arrests[\" PRIMARY_DESCRIPTION\"] == \"THEFT\"]\n",
    "df_thefts_per_beat = df_thefts['BEAT'].value_counts().sort_index(ascending= True)\n",
    "df_thefts_per_beat"
   ],
   "metadata": {
    "collapsed": false,
    "ExecuteTime": {
     "end_time": "2024-03-06T16:43:34.015505Z",
     "start_time": "2024-03-06T16:43:34.003794Z"
    }
   },
   "execution_count": 197
  },
  {
   "cell_type": "code",
   "outputs": [],
   "source": [
    "# Let's take a look at some demographic data to see if we can find any correlations\n",
    "demo = pd.read_csv(\"master.csv\")\n",
    "# Now let's create a new dataframe that includes demo and arrests_per_beat to find what demographic \n",
    "# data correlates with the number of arrests made in a beat. "
   ],
   "metadata": {
    "collapsed": false,
    "ExecuteTime": {
     "end_time": "2024-03-06T16:43:34.034294Z",
     "start_time": "2024-03-06T16:43:34.017045Z"
    }
   },
   "execution_count": 198
  },
  {
   "cell_type": "code",
   "outputs": [
    {
     "name": "stdout",
     "output_type": "stream",
     "text": [
      "population 2 0.02215597745347898\n",
      "square_mileage 3 0.024794259655794817\n",
      "45-49 15 0.026701535757889975\n",
      "25-29 19 0.02705479044427061\n",
      "22-29 29 0.02708401454395484\n",
      "percent_on_fs 37 0.05268561424820512\n"
     ]
    }
   ],
   "source": [
    "# This is the function that we will use to calculate the r squared value for the data. \n",
    "# It uses index column 0 and x and 1 as y where we use x to predict y. \n",
    "# the function goes calculate_r_squared(dataframe, x_idx, y_idx) where x_idx and y_idx are the index of the columns \n",
    "# that we want to use to calculate the r squared value. \n",
    "demo.insert(1, \"arrests\", arrests_per_beat.values)\n",
    "highest_r_squared = 0\n",
    "column_names = demo.columns.to_list() # This allows me to output the column names for the \n",
    "# for the highest r squared values columns \n",
    "for i in range(2, 62):\n",
    "    # This if statements checks the r squared value between each column of demographic data and the arrest date\n",
    "    # and if it is higher than the \n",
    "    # previous r squared value it prints the column name, index and the r squared value.\n",
    "    if calculate_r_squared(demo,i,1) >= highest_r_squared:\n",
    "        highest_r_squared = calculate_r_squared(demo,i,1)\n",
    "        print(column_names[i], i, calculate_r_squared(demo,i,1))\n",
    "    else:\n",
    "        continue\n",
    "# It seems that percentage on food stamps is the best predictor of number of arrests made. "
   ],
   "metadata": {
    "collapsed": false,
    "ExecuteTime": {
     "end_time": "2024-03-06T16:43:34.140559Z",
     "start_time": "2024-03-06T16:43:34.036948Z"
    }
   },
   "execution_count": 199
  },
  {
   "cell_type": "code",
   "outputs": [
    {
     "name": "stdout",
     "output_type": "stream",
     "text": [
      "population 2 0.013463029753834581\n",
      "households 4 0.016077867639602873\n",
      "21 21 0.025915523004470194\n",
      "pop_food_stamps 36 0.10729309451070793\n"
     ]
    }
   ],
   "source": [
    "demo = pd.read_csv(\"master.csv\")\n",
    "demo.insert(1, \"crimes\", crimes_per_beat.values)\n",
    "highest_r_squared = 0\n",
    "column_names = demo.columns.to_list() # This allows me to output the column names for the \n",
    "# for the highest r squared values columns \n",
    "for i in range(2, 62):\n",
    "    # This if statements checks the r squared value between each column of demographic data and the arrest date\n",
    "    # and if it is higher than the \n",
    "    # previous r squared value it prints the column name, index and the r squared value.\n",
    "    if calculate_r_squared(demo,i,1) >= highest_r_squared:\n",
    "        highest_r_squared = calculate_r_squared(demo,i,1)\n",
    "        print(column_names[i], i, calculate_r_squared(demo,i,1))\n",
    "    else:\n",
    "        continue\n",
    "        \n",
    "# It seems that percentage on food stamps is the best predictor of number of crimes as well. Though\n",
    "# food stamps are a better predictor of amount of crime than number of arrests as evidenced by the r squared value."
   ],
   "metadata": {
    "collapsed": false,
    "ExecuteTime": {
     "end_time": "2024-03-06T16:49:20.886604Z",
     "start_time": "2024-03-06T16:49:20.833688Z"
    }
   },
   "execution_count": 208
  }
 ],
 "metadata": {
  "kernelspec": {
   "display_name": ".venv",
   "language": "python",
   "name": "python3"
  },
  "language_info": {
   "codemirror_mode": {
    "name": "ipython",
    "version": 3
   },
   "file_extension": ".py",
   "mimetype": "text/x-python",
   "name": "python",
   "nbconvert_exporter": "python",
   "pygments_lexer": "ipython3",
   "version": "3.12.2"
  }
 },
 "nbformat": 4,
 "nbformat_minor": 2
}
