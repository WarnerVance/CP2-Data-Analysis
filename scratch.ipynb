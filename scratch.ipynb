{
 "cells": [
  {
   "cell_type": "code",
   "execution_count": 31,
   "metadata": {
    "ExecuteTime": {
     "end_time": "2024-03-06T04:47:57.949426Z",
     "start_time": "2024-03-06T04:47:57.335055Z"
    }
   },
   "outputs": [],
   "source": [
    "import pandas as pd\n",
    "df = pd.read_csv('Crimes_-_Map.csv')"
   ]
  },
  {
   "cell_type": "code",
   "execution_count": 41,
   "metadata": {
    "ExecuteTime": {
     "end_time": "2024-03-06T05:10:11.156582Z",
     "start_time": "2024-03-06T05:10:11.092998Z"
    }
   },
   "outputs": [],
   "source": [
    "df_arrests = df[df[\"ARREST\"] == \"Y\"]"
   ]
  },
  {
   "cell_type": "code",
   "execution_count": 49,
   "metadata": {
    "ExecuteTime": {
     "end_time": "2024-03-06T05:20:56.491402Z",
     "start_time": "2024-03-06T05:20:56.482072Z"
    }
   },
   "outputs": [
    {
     "data": {
      "text/plain": "BEAT\n1834    616\n111     608\n1121    514\n1112    463\n123     367\n       ... \n1611     24\n1652     21\n1932     16\n1811     14\n1813     13\nName: count, Length: 274, dtype: int64"
     },
     "execution_count": 49,
     "metadata": {},
     "output_type": "execute_result"
    }
   ],
   "source": [
    "df_arrests['BEAT'].value_counts().sort_values(ascending=False)\n",
    "# Here we can see the top 10 beats with the most arrests made. The top beat is 1834 which is the beat that includes navy peir. I don't usally think of navy peir as a place with a lot of crime but I guess I was wrong. \n",
    "# I used https://www.chicagocityscape.com/maps/index.php#/?places_type=chipolicebeat&search_term=1831 to find out where the beats are located"
   ]
  },
  {
   "cell_type": "code",
   "outputs": [
    {
     "data": {
      "text/plain": "BEAT\n632     5\n623     4\n921     3\n333     3\n1032    3\n       ..\n1722    1\n714     1\n2013    1\n913     1\n323     1\nName: count, Length: 98, dtype: int64"
     },
     "execution_count": 48,
     "metadata": {},
     "output_type": "execute_result"
    }
   ],
   "source": [
    "# Let's find if we get similar values when we limit the crimes only to murders\n",
    "df_murders = df_arrests.loc[df_arrests[\" PRIMARY_DESCRIPTION\"] == \"HOMICIDE\"]\n",
    "df_murders['BEAT'].value_counts().sort_values(ascending=False)"
   ],
   "metadata": {
    "collapsed": false,
    "ExecuteTime": {
     "end_time": "2024-03-06T05:20:48.083253Z",
     "start_time": "2024-03-06T05:20:48.068863Z"
    }
   },
   "execution_count": 48
  },
  {
   "cell_type": "code",
   "outputs": [
    {
     "data": {
      "text/plain": "BEAT\n111     298\n112     184\n113       7\n114       6\n121       3\n       ... \n2531      8\n2532      3\n2533     36\n2534      3\n2535      4\nName: count, Length: 244, dtype: int64"
     },
     "execution_count": 51,
     "metadata": {},
     "output_type": "execute_result"
    }
   ],
   "source": [
    "# Let's find if we get similar values when we limit the crimes only to thefts\n",
    "df_thefts = df_arrests.loc[df_arrests[\" PRIMARY_DESCRIPTION\"] == \"THEFT\"]\n",
    "df_thefts['BEAT'].value_counts().sort_index(ascending= True)"
   ],
   "metadata": {
    "collapsed": false,
    "ExecuteTime": {
     "end_time": "2024-03-06T05:22:07.226401Z",
     "start_time": "2024-03-06T05:22:07.127378Z"
    }
   },
   "execution_count": 51
  },
  {
   "cell_type": "code",
   "outputs": [
    {
     "data": {
      "text/plain": "     beat    population  square_mileage   households          85+       80-84  \\\n0     111   1982.585454        0.106797   987.838731     0.000000   19.444439   \n1     112   1075.282355        0.086060   451.507469     0.000000   16.789681   \n2     113   1072.951867        0.087558   358.127847     0.000000    1.343759   \n3     114  16145.434610        0.668110  8563.065712   121.179246  289.385794   \n4     121   6400.496775        0.264266  3632.514742     0.000000    0.008476   \n..    ...           ...             ...          ...          ...         ...   \n266  2532   9235.014712        0.448892  3329.785115    33.781910  102.169493   \n267  2533  11224.658030        1.010532  3246.532651    65.365715  144.403036   \n268  2534  11257.244306        0.503779  3256.249983    95.262775  101.094271   \n269  2535   9337.583193        0.501021  2742.805020    58.648750   90.471594   \n270  3100  24965.616976        3.391277  9440.559480  1148.651456  723.551296   \n\n           75-79        70-74       67-69       65-66  ...  percent_se  \\\n0      29.959579    24.035301   12.186576   13.766156  ...   34.345585   \n1      27.096763    28.296418   16.228243   13.717309  ...   44.436205   \n2       2.809903    17.071592   15.489847    8.073613  ...   48.505227   \n3     452.954139   525.175490  415.351295  210.220046  ...   26.685893   \n4       8.659595    28.398202   94.513725   59.531802  ...   27.821948   \n..           ...          ...         ...         ...  ...         ...   \n266   195.560961   308.247229  180.205556  202.618737  ...   27.313825   \n267   148.374092   295.128608  194.695754  141.293643  ...   29.349846   \n268   128.054468   221.940656  119.602438  140.690468  ...   28.701259   \n269   172.265943   328.388003  131.427684  164.198821  ...   29.130380   \n270  1131.604280  1053.108112  692.682921  698.685923  ...   21.686845   \n\n     percent_se_0-4  percent_se_5-9  percent_se_10-14  percent_se_15-17  \\\n0         83.002531       99.900983        100.000000        100.000000   \n1         23.278445      100.000000        100.000000        100.000000   \n2          0.000000      100.000000        100.000000        100.000000   \n3         91.768634      100.000000        100.000000        100.000000   \n4         71.831891       58.500783        100.000000        100.000000   \n..              ...             ...               ...               ...   \n266       68.478984       98.793086        100.000000        100.000000   \n267       35.372979       93.590223         99.714335         95.428351   \n268       24.887664       91.966221         97.751435         94.093999   \n269       52.059924       96.793559         97.938439         99.737005   \n270       45.750782       93.338469        100.000000         94.344472   \n\n     percent_se_18-19  percent_se_20-24  percent_se_25-34      youngPop  \\\n0           97.448466         52.211998         27.498145    514.643608   \n1           98.856268         78.819322         26.861461    370.210031   \n2           99.360813         84.641884         27.013032    332.381964   \n3           99.018453         75.201963         25.759811   8516.213013   \n4           99.986358         58.954917         22.159168   2144.373360   \n..                ...               ...               ...           ...   \n266         87.965244         36.986187          5.950142   4561.398913   \n267         68.933936         30.319313          6.910828   5186.262569   \n268         59.518972         33.510382          8.002539   4737.308412   \n269         77.570453         33.426156          7.633468   4152.290033   \n270         87.246628         52.695436         14.156983  15766.845007   \n\n     percent_se_35+  \n0          0.818351  \n1          1.228801  \n2          1.258874  \n3          2.683614  \n4          2.849663  \n..              ...  \n266        1.155377  \n267        1.672928  \n268        0.970273  \n269        1.276504  \n270        2.735884  \n\n[271 rows x 74 columns]",
      "text/html": "<div>\n<style scoped>\n    .dataframe tbody tr th:only-of-type {\n        vertical-align: middle;\n    }\n\n    .dataframe tbody tr th {\n        vertical-align: top;\n    }\n\n    .dataframe thead th {\n        text-align: right;\n    }\n</style>\n<table border=\"1\" class=\"dataframe\">\n  <thead>\n    <tr style=\"text-align: right;\">\n      <th></th>\n      <th>beat</th>\n      <th>population</th>\n      <th>square_mileage</th>\n      <th>households</th>\n      <th>85+</th>\n      <th>80-84</th>\n      <th>75-79</th>\n      <th>70-74</th>\n      <th>67-69</th>\n      <th>65-66</th>\n      <th>...</th>\n      <th>percent_se</th>\n      <th>percent_se_0-4</th>\n      <th>percent_se_5-9</th>\n      <th>percent_se_10-14</th>\n      <th>percent_se_15-17</th>\n      <th>percent_se_18-19</th>\n      <th>percent_se_20-24</th>\n      <th>percent_se_25-34</th>\n      <th>youngPop</th>\n      <th>percent_se_35+</th>\n    </tr>\n  </thead>\n  <tbody>\n    <tr>\n      <th>0</th>\n      <td>111</td>\n      <td>1982.585454</td>\n      <td>0.106797</td>\n      <td>987.838731</td>\n      <td>0.000000</td>\n      <td>19.444439</td>\n      <td>29.959579</td>\n      <td>24.035301</td>\n      <td>12.186576</td>\n      <td>13.766156</td>\n      <td>...</td>\n      <td>34.345585</td>\n      <td>83.002531</td>\n      <td>99.900983</td>\n      <td>100.000000</td>\n      <td>100.000000</td>\n      <td>97.448466</td>\n      <td>52.211998</td>\n      <td>27.498145</td>\n      <td>514.643608</td>\n      <td>0.818351</td>\n    </tr>\n    <tr>\n      <th>1</th>\n      <td>112</td>\n      <td>1075.282355</td>\n      <td>0.086060</td>\n      <td>451.507469</td>\n      <td>0.000000</td>\n      <td>16.789681</td>\n      <td>27.096763</td>\n      <td>28.296418</td>\n      <td>16.228243</td>\n      <td>13.717309</td>\n      <td>...</td>\n      <td>44.436205</td>\n      <td>23.278445</td>\n      <td>100.000000</td>\n      <td>100.000000</td>\n      <td>100.000000</td>\n      <td>98.856268</td>\n      <td>78.819322</td>\n      <td>26.861461</td>\n      <td>370.210031</td>\n      <td>1.228801</td>\n    </tr>\n    <tr>\n      <th>2</th>\n      <td>113</td>\n      <td>1072.951867</td>\n      <td>0.087558</td>\n      <td>358.127847</td>\n      <td>0.000000</td>\n      <td>1.343759</td>\n      <td>2.809903</td>\n      <td>17.071592</td>\n      <td>15.489847</td>\n      <td>8.073613</td>\n      <td>...</td>\n      <td>48.505227</td>\n      <td>0.000000</td>\n      <td>100.000000</td>\n      <td>100.000000</td>\n      <td>100.000000</td>\n      <td>99.360813</td>\n      <td>84.641884</td>\n      <td>27.013032</td>\n      <td>332.381964</td>\n      <td>1.258874</td>\n    </tr>\n    <tr>\n      <th>3</th>\n      <td>114</td>\n      <td>16145.434610</td>\n      <td>0.668110</td>\n      <td>8563.065712</td>\n      <td>121.179246</td>\n      <td>289.385794</td>\n      <td>452.954139</td>\n      <td>525.175490</td>\n      <td>415.351295</td>\n      <td>210.220046</td>\n      <td>...</td>\n      <td>26.685893</td>\n      <td>91.768634</td>\n      <td>100.000000</td>\n      <td>100.000000</td>\n      <td>100.000000</td>\n      <td>99.018453</td>\n      <td>75.201963</td>\n      <td>25.759811</td>\n      <td>8516.213013</td>\n      <td>2.683614</td>\n    </tr>\n    <tr>\n      <th>4</th>\n      <td>121</td>\n      <td>6400.496775</td>\n      <td>0.264266</td>\n      <td>3632.514742</td>\n      <td>0.000000</td>\n      <td>0.008476</td>\n      <td>8.659595</td>\n      <td>28.398202</td>\n      <td>94.513725</td>\n      <td>59.531802</td>\n      <td>...</td>\n      <td>27.821948</td>\n      <td>71.831891</td>\n      <td>58.500783</td>\n      <td>100.000000</td>\n      <td>100.000000</td>\n      <td>99.986358</td>\n      <td>58.954917</td>\n      <td>22.159168</td>\n      <td>2144.373360</td>\n      <td>2.849663</td>\n    </tr>\n    <tr>\n      <th>...</th>\n      <td>...</td>\n      <td>...</td>\n      <td>...</td>\n      <td>...</td>\n      <td>...</td>\n      <td>...</td>\n      <td>...</td>\n      <td>...</td>\n      <td>...</td>\n      <td>...</td>\n      <td>...</td>\n      <td>...</td>\n      <td>...</td>\n      <td>...</td>\n      <td>...</td>\n      <td>...</td>\n      <td>...</td>\n      <td>...</td>\n      <td>...</td>\n      <td>...</td>\n      <td>...</td>\n    </tr>\n    <tr>\n      <th>266</th>\n      <td>2532</td>\n      <td>9235.014712</td>\n      <td>0.448892</td>\n      <td>3329.785115</td>\n      <td>33.781910</td>\n      <td>102.169493</td>\n      <td>195.560961</td>\n      <td>308.247229</td>\n      <td>180.205556</td>\n      <td>202.618737</td>\n      <td>...</td>\n      <td>27.313825</td>\n      <td>68.478984</td>\n      <td>98.793086</td>\n      <td>100.000000</td>\n      <td>100.000000</td>\n      <td>87.965244</td>\n      <td>36.986187</td>\n      <td>5.950142</td>\n      <td>4561.398913</td>\n      <td>1.155377</td>\n    </tr>\n    <tr>\n      <th>267</th>\n      <td>2533</td>\n      <td>11224.658030</td>\n      <td>1.010532</td>\n      <td>3246.532651</td>\n      <td>65.365715</td>\n      <td>144.403036</td>\n      <td>148.374092</td>\n      <td>295.128608</td>\n      <td>194.695754</td>\n      <td>141.293643</td>\n      <td>...</td>\n      <td>29.349846</td>\n      <td>35.372979</td>\n      <td>93.590223</td>\n      <td>99.714335</td>\n      <td>95.428351</td>\n      <td>68.933936</td>\n      <td>30.319313</td>\n      <td>6.910828</td>\n      <td>5186.262569</td>\n      <td>1.672928</td>\n    </tr>\n    <tr>\n      <th>268</th>\n      <td>2534</td>\n      <td>11257.244306</td>\n      <td>0.503779</td>\n      <td>3256.249983</td>\n      <td>95.262775</td>\n      <td>101.094271</td>\n      <td>128.054468</td>\n      <td>221.940656</td>\n      <td>119.602438</td>\n      <td>140.690468</td>\n      <td>...</td>\n      <td>28.701259</td>\n      <td>24.887664</td>\n      <td>91.966221</td>\n      <td>97.751435</td>\n      <td>94.093999</td>\n      <td>59.518972</td>\n      <td>33.510382</td>\n      <td>8.002539</td>\n      <td>4737.308412</td>\n      <td>0.970273</td>\n    </tr>\n    <tr>\n      <th>269</th>\n      <td>2535</td>\n      <td>9337.583193</td>\n      <td>0.501021</td>\n      <td>2742.805020</td>\n      <td>58.648750</td>\n      <td>90.471594</td>\n      <td>172.265943</td>\n      <td>328.388003</td>\n      <td>131.427684</td>\n      <td>164.198821</td>\n      <td>...</td>\n      <td>29.130380</td>\n      <td>52.059924</td>\n      <td>96.793559</td>\n      <td>97.938439</td>\n      <td>99.737005</td>\n      <td>77.570453</td>\n      <td>33.426156</td>\n      <td>7.633468</td>\n      <td>4152.290033</td>\n      <td>1.276504</td>\n    </tr>\n    <tr>\n      <th>270</th>\n      <td>3100</td>\n      <td>24965.616976</td>\n      <td>3.391277</td>\n      <td>9440.559480</td>\n      <td>1148.651456</td>\n      <td>723.551296</td>\n      <td>1131.604280</td>\n      <td>1053.108112</td>\n      <td>692.682921</td>\n      <td>698.685923</td>\n      <td>...</td>\n      <td>21.686845</td>\n      <td>45.750782</td>\n      <td>93.338469</td>\n      <td>100.000000</td>\n      <td>94.344472</td>\n      <td>87.246628</td>\n      <td>52.695436</td>\n      <td>14.156983</td>\n      <td>15766.845007</td>\n      <td>2.735884</td>\n    </tr>\n  </tbody>\n</table>\n<p>271 rows × 74 columns</p>\n</div>"
     },
     "execution_count": 46,
     "metadata": {},
     "output_type": "execute_result"
    }
   ],
   "source": [
    "# Let's take a look at some demographic data to see if we can find any correlations\n",
    "demo = pd.read_csv(\"master.csv\")\n",
    "demo"
   ],
   "metadata": {
    "collapsed": false,
    "ExecuteTime": {
     "end_time": "2024-03-06T05:20:15.743548Z",
     "start_time": "2024-03-06T05:20:15.691156Z"
    }
   },
   "execution_count": 46
  }
 ],
 "metadata": {
  "kernelspec": {
   "display_name": ".venv",
   "language": "python",
   "name": "python3"
  },
  "language_info": {
   "codemirror_mode": {
    "name": "ipython",
    "version": 3
   },
   "file_extension": ".py",
   "mimetype": "text/x-python",
   "name": "python",
   "nbconvert_exporter": "python",
   "pygments_lexer": "ipython3",
   "version": "3.12.2"
  }
 },
 "nbformat": 4,
 "nbformat_minor": 2
}
